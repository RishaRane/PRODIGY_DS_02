{
 "cells": [
  {
   "cell_type": "code",
   "execution_count": 95,
   "id": "9a82a8b5",
   "metadata": {},
   "outputs": [],
   "source": [
    "import pandas as pd"
   ]
  },
  {
   "cell_type": "code",
   "execution_count": 96,
   "id": "4e8b7c48",
   "metadata": {},
   "outputs": [],
   "source": [
    "survey_raw_df = pd.read_csv('survey_results_public2020.csv')"
   ]
  },
  {
   "cell_type": "code",
   "execution_count": 97,
   "id": "3d9d4b84",
   "metadata": {},
   "outputs": [
    {
     "data": {
      "text/html": [
       "<div>\n",
       "<style scoped>\n",
       "    .dataframe tbody tr th:only-of-type {\n",
       "        vertical-align: middle;\n",
       "    }\n",
       "\n",
       "    .dataframe tbody tr th {\n",
       "        vertical-align: top;\n",
       "    }\n",
       "\n",
       "    .dataframe thead th {\n",
       "        text-align: right;\n",
       "    }\n",
       "</style>\n",
       "<table border=\"1\" class=\"dataframe\">\n",
       "  <thead>\n",
       "    <tr style=\"text-align: right;\">\n",
       "      <th></th>\n",
       "      <th>Respondent</th>\n",
       "      <th>MainBranch</th>\n",
       "      <th>Hobbyist</th>\n",
       "      <th>Age</th>\n",
       "      <th>Age1stCode</th>\n",
       "      <th>CompFreq</th>\n",
       "      <th>CompTotal</th>\n",
       "      <th>ConvertedComp</th>\n",
       "      <th>Country</th>\n",
       "      <th>CurrencyDesc</th>\n",
       "      <th>...</th>\n",
       "      <th>SurveyEase</th>\n",
       "      <th>SurveyLength</th>\n",
       "      <th>Trans</th>\n",
       "      <th>UndergradMajor</th>\n",
       "      <th>WebframeDesireNextYear</th>\n",
       "      <th>WebframeWorkedWith</th>\n",
       "      <th>WelcomeChange</th>\n",
       "      <th>WorkWeekHrs</th>\n",
       "      <th>YearsCode</th>\n",
       "      <th>YearsCodePro</th>\n",
       "    </tr>\n",
       "  </thead>\n",
       "  <tbody>\n",
       "    <tr>\n",
       "      <th>0</th>\n",
       "      <td>1</td>\n",
       "      <td>I am a developer by profession</td>\n",
       "      <td>Yes</td>\n",
       "      <td>NaN</td>\n",
       "      <td>13</td>\n",
       "      <td>Monthly</td>\n",
       "      <td>NaN</td>\n",
       "      <td>NaN</td>\n",
       "      <td>Germany</td>\n",
       "      <td>European Euro</td>\n",
       "      <td>...</td>\n",
       "      <td>Neither easy nor difficult</td>\n",
       "      <td>Appropriate in length</td>\n",
       "      <td>No</td>\n",
       "      <td>Computer science, computer engineering, or sof...</td>\n",
       "      <td>ASP.NET Core</td>\n",
       "      <td>ASP.NET;ASP.NET Core</td>\n",
       "      <td>Just as welcome now as I felt last year</td>\n",
       "      <td>50.0</td>\n",
       "      <td>36</td>\n",
       "      <td>27</td>\n",
       "    </tr>\n",
       "    <tr>\n",
       "      <th>1</th>\n",
       "      <td>2</td>\n",
       "      <td>I am a developer by profession</td>\n",
       "      <td>No</td>\n",
       "      <td>NaN</td>\n",
       "      <td>19</td>\n",
       "      <td>NaN</td>\n",
       "      <td>NaN</td>\n",
       "      <td>NaN</td>\n",
       "      <td>United Kingdom</td>\n",
       "      <td>Pound sterling</td>\n",
       "      <td>...</td>\n",
       "      <td>NaN</td>\n",
       "      <td>NaN</td>\n",
       "      <td>NaN</td>\n",
       "      <td>Computer science, computer engineering, or sof...</td>\n",
       "      <td>NaN</td>\n",
       "      <td>NaN</td>\n",
       "      <td>Somewhat more welcome now than last year</td>\n",
       "      <td>NaN</td>\n",
       "      <td>7</td>\n",
       "      <td>4</td>\n",
       "    </tr>\n",
       "    <tr>\n",
       "      <th>2</th>\n",
       "      <td>3</td>\n",
       "      <td>I code primarily as a hobby</td>\n",
       "      <td>Yes</td>\n",
       "      <td>NaN</td>\n",
       "      <td>15</td>\n",
       "      <td>NaN</td>\n",
       "      <td>NaN</td>\n",
       "      <td>NaN</td>\n",
       "      <td>Russian Federation</td>\n",
       "      <td>NaN</td>\n",
       "      <td>...</td>\n",
       "      <td>Neither easy nor difficult</td>\n",
       "      <td>Appropriate in length</td>\n",
       "      <td>NaN</td>\n",
       "      <td>NaN</td>\n",
       "      <td>NaN</td>\n",
       "      <td>NaN</td>\n",
       "      <td>Somewhat more welcome now than last year</td>\n",
       "      <td>NaN</td>\n",
       "      <td>4</td>\n",
       "      <td>NaN</td>\n",
       "    </tr>\n",
       "    <tr>\n",
       "      <th>3</th>\n",
       "      <td>4</td>\n",
       "      <td>I am a developer by profession</td>\n",
       "      <td>Yes</td>\n",
       "      <td>25.0</td>\n",
       "      <td>18</td>\n",
       "      <td>NaN</td>\n",
       "      <td>NaN</td>\n",
       "      <td>NaN</td>\n",
       "      <td>Albania</td>\n",
       "      <td>Albanian lek</td>\n",
       "      <td>...</td>\n",
       "      <td>NaN</td>\n",
       "      <td>NaN</td>\n",
       "      <td>No</td>\n",
       "      <td>Computer science, computer engineering, or sof...</td>\n",
       "      <td>NaN</td>\n",
       "      <td>NaN</td>\n",
       "      <td>Somewhat less welcome now than last year</td>\n",
       "      <td>40.0</td>\n",
       "      <td>7</td>\n",
       "      <td>4</td>\n",
       "    </tr>\n",
       "    <tr>\n",
       "      <th>4</th>\n",
       "      <td>5</td>\n",
       "      <td>I used to be a developer by profession, but no...</td>\n",
       "      <td>Yes</td>\n",
       "      <td>31.0</td>\n",
       "      <td>16</td>\n",
       "      <td>NaN</td>\n",
       "      <td>NaN</td>\n",
       "      <td>NaN</td>\n",
       "      <td>United States</td>\n",
       "      <td>NaN</td>\n",
       "      <td>...</td>\n",
       "      <td>Easy</td>\n",
       "      <td>Too short</td>\n",
       "      <td>No</td>\n",
       "      <td>Computer science, computer engineering, or sof...</td>\n",
       "      <td>Django;Ruby on Rails</td>\n",
       "      <td>Ruby on Rails</td>\n",
       "      <td>Just as welcome now as I felt last year</td>\n",
       "      <td>NaN</td>\n",
       "      <td>15</td>\n",
       "      <td>8</td>\n",
       "    </tr>\n",
       "    <tr>\n",
       "      <th>...</th>\n",
       "      <td>...</td>\n",
       "      <td>...</td>\n",
       "      <td>...</td>\n",
       "      <td>...</td>\n",
       "      <td>...</td>\n",
       "      <td>...</td>\n",
       "      <td>...</td>\n",
       "      <td>...</td>\n",
       "      <td>...</td>\n",
       "      <td>...</td>\n",
       "      <td>...</td>\n",
       "      <td>...</td>\n",
       "      <td>...</td>\n",
       "      <td>...</td>\n",
       "      <td>...</td>\n",
       "      <td>...</td>\n",
       "      <td>...</td>\n",
       "      <td>...</td>\n",
       "      <td>...</td>\n",
       "      <td>...</td>\n",
       "      <td>...</td>\n",
       "    </tr>\n",
       "    <tr>\n",
       "      <th>64456</th>\n",
       "      <td>64858</td>\n",
       "      <td>NaN</td>\n",
       "      <td>Yes</td>\n",
       "      <td>NaN</td>\n",
       "      <td>16</td>\n",
       "      <td>NaN</td>\n",
       "      <td>NaN</td>\n",
       "      <td>NaN</td>\n",
       "      <td>United States</td>\n",
       "      <td>NaN</td>\n",
       "      <td>...</td>\n",
       "      <td>NaN</td>\n",
       "      <td>NaN</td>\n",
       "      <td>NaN</td>\n",
       "      <td>Computer science, computer engineering, or sof...</td>\n",
       "      <td>NaN</td>\n",
       "      <td>NaN</td>\n",
       "      <td>NaN</td>\n",
       "      <td>NaN</td>\n",
       "      <td>10</td>\n",
       "      <td>Less than 1 year</td>\n",
       "    </tr>\n",
       "    <tr>\n",
       "      <th>64457</th>\n",
       "      <td>64867</td>\n",
       "      <td>NaN</td>\n",
       "      <td>Yes</td>\n",
       "      <td>NaN</td>\n",
       "      <td>NaN</td>\n",
       "      <td>NaN</td>\n",
       "      <td>NaN</td>\n",
       "      <td>NaN</td>\n",
       "      <td>Morocco</td>\n",
       "      <td>NaN</td>\n",
       "      <td>...</td>\n",
       "      <td>NaN</td>\n",
       "      <td>NaN</td>\n",
       "      <td>NaN</td>\n",
       "      <td>NaN</td>\n",
       "      <td>NaN</td>\n",
       "      <td>NaN</td>\n",
       "      <td>NaN</td>\n",
       "      <td>NaN</td>\n",
       "      <td>NaN</td>\n",
       "      <td>NaN</td>\n",
       "    </tr>\n",
       "    <tr>\n",
       "      <th>64458</th>\n",
       "      <td>64898</td>\n",
       "      <td>NaN</td>\n",
       "      <td>Yes</td>\n",
       "      <td>NaN</td>\n",
       "      <td>NaN</td>\n",
       "      <td>NaN</td>\n",
       "      <td>NaN</td>\n",
       "      <td>NaN</td>\n",
       "      <td>Viet Nam</td>\n",
       "      <td>NaN</td>\n",
       "      <td>...</td>\n",
       "      <td>NaN</td>\n",
       "      <td>NaN</td>\n",
       "      <td>NaN</td>\n",
       "      <td>NaN</td>\n",
       "      <td>NaN</td>\n",
       "      <td>NaN</td>\n",
       "      <td>NaN</td>\n",
       "      <td>NaN</td>\n",
       "      <td>NaN</td>\n",
       "      <td>NaN</td>\n",
       "    </tr>\n",
       "    <tr>\n",
       "      <th>64459</th>\n",
       "      <td>64925</td>\n",
       "      <td>NaN</td>\n",
       "      <td>Yes</td>\n",
       "      <td>NaN</td>\n",
       "      <td>NaN</td>\n",
       "      <td>NaN</td>\n",
       "      <td>NaN</td>\n",
       "      <td>NaN</td>\n",
       "      <td>Poland</td>\n",
       "      <td>NaN</td>\n",
       "      <td>...</td>\n",
       "      <td>NaN</td>\n",
       "      <td>NaN</td>\n",
       "      <td>NaN</td>\n",
       "      <td>NaN</td>\n",
       "      <td>Angular;Angular.js;React.js</td>\n",
       "      <td>NaN</td>\n",
       "      <td>NaN</td>\n",
       "      <td>NaN</td>\n",
       "      <td>NaN</td>\n",
       "      <td>NaN</td>\n",
       "    </tr>\n",
       "    <tr>\n",
       "      <th>64460</th>\n",
       "      <td>65112</td>\n",
       "      <td>NaN</td>\n",
       "      <td>Yes</td>\n",
       "      <td>NaN</td>\n",
       "      <td>NaN</td>\n",
       "      <td>NaN</td>\n",
       "      <td>NaN</td>\n",
       "      <td>NaN</td>\n",
       "      <td>Spain</td>\n",
       "      <td>NaN</td>\n",
       "      <td>...</td>\n",
       "      <td>NaN</td>\n",
       "      <td>NaN</td>\n",
       "      <td>NaN</td>\n",
       "      <td>Computer science, computer engineering, or sof...</td>\n",
       "      <td>ASP.NET Core;jQuery</td>\n",
       "      <td>Angular;Angular.js;ASP.NET Core;jQuery</td>\n",
       "      <td>NaN</td>\n",
       "      <td>NaN</td>\n",
       "      <td>NaN</td>\n",
       "      <td>NaN</td>\n",
       "    </tr>\n",
       "  </tbody>\n",
       "</table>\n",
       "<p>64461 rows × 61 columns</p>\n",
       "</div>"
      ],
      "text/plain": [
       "       Respondent                                         MainBranch Hobbyist  \\\n",
       "0               1                     I am a developer by profession      Yes   \n",
       "1               2                     I am a developer by profession       No   \n",
       "2               3                        I code primarily as a hobby      Yes   \n",
       "3               4                     I am a developer by profession      Yes   \n",
       "4               5  I used to be a developer by profession, but no...      Yes   \n",
       "...           ...                                                ...      ...   \n",
       "64456       64858                                                NaN      Yes   \n",
       "64457       64867                                                NaN      Yes   \n",
       "64458       64898                                                NaN      Yes   \n",
       "64459       64925                                                NaN      Yes   \n",
       "64460       65112                                                NaN      Yes   \n",
       "\n",
       "        Age Age1stCode CompFreq  CompTotal  ConvertedComp             Country  \\\n",
       "0       NaN         13  Monthly        NaN            NaN             Germany   \n",
       "1       NaN         19      NaN        NaN            NaN      United Kingdom   \n",
       "2       NaN         15      NaN        NaN            NaN  Russian Federation   \n",
       "3      25.0         18      NaN        NaN            NaN             Albania   \n",
       "4      31.0         16      NaN        NaN            NaN       United States   \n",
       "...     ...        ...      ...        ...            ...                 ...   \n",
       "64456   NaN         16      NaN        NaN            NaN       United States   \n",
       "64457   NaN        NaN      NaN        NaN            NaN             Morocco   \n",
       "64458   NaN        NaN      NaN        NaN            NaN            Viet Nam   \n",
       "64459   NaN        NaN      NaN        NaN            NaN              Poland   \n",
       "64460   NaN        NaN      NaN        NaN            NaN               Spain   \n",
       "\n",
       "         CurrencyDesc  ...                  SurveyEase           SurveyLength  \\\n",
       "0       European Euro  ...  Neither easy nor difficult  Appropriate in length   \n",
       "1      Pound sterling  ...                         NaN                    NaN   \n",
       "2                 NaN  ...  Neither easy nor difficult  Appropriate in length   \n",
       "3        Albanian lek  ...                         NaN                    NaN   \n",
       "4                 NaN  ...                        Easy              Too short   \n",
       "...               ...  ...                         ...                    ...   \n",
       "64456             NaN  ...                         NaN                    NaN   \n",
       "64457             NaN  ...                         NaN                    NaN   \n",
       "64458             NaN  ...                         NaN                    NaN   \n",
       "64459             NaN  ...                         NaN                    NaN   \n",
       "64460             NaN  ...                         NaN                    NaN   \n",
       "\n",
       "      Trans                                     UndergradMajor  \\\n",
       "0        No  Computer science, computer engineering, or sof...   \n",
       "1       NaN  Computer science, computer engineering, or sof...   \n",
       "2       NaN                                                NaN   \n",
       "3        No  Computer science, computer engineering, or sof...   \n",
       "4        No  Computer science, computer engineering, or sof...   \n",
       "...     ...                                                ...   \n",
       "64456   NaN  Computer science, computer engineering, or sof...   \n",
       "64457   NaN                                                NaN   \n",
       "64458   NaN                                                NaN   \n",
       "64459   NaN                                                NaN   \n",
       "64460   NaN  Computer science, computer engineering, or sof...   \n",
       "\n",
       "            WebframeDesireNextYear                      WebframeWorkedWith  \\\n",
       "0                     ASP.NET Core                    ASP.NET;ASP.NET Core   \n",
       "1                              NaN                                     NaN   \n",
       "2                              NaN                                     NaN   \n",
       "3                              NaN                                     NaN   \n",
       "4             Django;Ruby on Rails                           Ruby on Rails   \n",
       "...                            ...                                     ...   \n",
       "64456                          NaN                                     NaN   \n",
       "64457                          NaN                                     NaN   \n",
       "64458                          NaN                                     NaN   \n",
       "64459  Angular;Angular.js;React.js                                     NaN   \n",
       "64460          ASP.NET Core;jQuery  Angular;Angular.js;ASP.NET Core;jQuery   \n",
       "\n",
       "                                  WelcomeChange WorkWeekHrs YearsCode  \\\n",
       "0       Just as welcome now as I felt last year        50.0        36   \n",
       "1      Somewhat more welcome now than last year         NaN         7   \n",
       "2      Somewhat more welcome now than last year         NaN         4   \n",
       "3      Somewhat less welcome now than last year        40.0         7   \n",
       "4       Just as welcome now as I felt last year         NaN        15   \n",
       "...                                         ...         ...       ...   \n",
       "64456                                       NaN         NaN        10   \n",
       "64457                                       NaN         NaN       NaN   \n",
       "64458                                       NaN         NaN       NaN   \n",
       "64459                                       NaN         NaN       NaN   \n",
       "64460                                       NaN         NaN       NaN   \n",
       "\n",
       "           YearsCodePro  \n",
       "0                    27  \n",
       "1                     4  \n",
       "2                   NaN  \n",
       "3                     4  \n",
       "4                     8  \n",
       "...                 ...  \n",
       "64456  Less than 1 year  \n",
       "64457               NaN  \n",
       "64458               NaN  \n",
       "64459               NaN  \n",
       "64460               NaN  \n",
       "\n",
       "[64461 rows x 61 columns]"
      ]
     },
     "execution_count": 97,
     "metadata": {},
     "output_type": "execute_result"
    }
   ],
   "source": [
    "survey_raw_df"
   ]
  },
  {
   "cell_type": "code",
   "execution_count": 98,
   "id": "43ed1dfb",
   "metadata": {},
   "outputs": [
    {
     "data": {
      "text/plain": [
       "Index(['Respondent', 'MainBranch', 'Hobbyist', 'Age', 'Age1stCode', 'CompFreq',\n",
       "       'CompTotal', 'ConvertedComp', 'Country', 'CurrencyDesc',\n",
       "       'CurrencySymbol', 'DatabaseDesireNextYear', 'DatabaseWorkedWith',\n",
       "       'DevType', 'EdLevel', 'Employment', 'Ethnicity', 'Gender', 'JobFactors',\n",
       "       'JobSat', 'JobSeek', 'LanguageDesireNextYear', 'LanguageWorkedWith',\n",
       "       'MiscTechDesireNextYear', 'MiscTechWorkedWith',\n",
       "       'NEWCollabToolsDesireNextYear', 'NEWCollabToolsWorkedWith', 'NEWDevOps',\n",
       "       'NEWDevOpsImpt', 'NEWEdImpt', 'NEWJobHunt', 'NEWJobHuntResearch',\n",
       "       'NEWLearn', 'NEWOffTopic', 'NEWOnboardGood', 'NEWOtherComms',\n",
       "       'NEWOvertime', 'NEWPurchaseResearch', 'NEWPurpleLink', 'NEWSOSites',\n",
       "       'NEWStuck', 'OpSys', 'OrgSize', 'PlatformDesireNextYear',\n",
       "       'PlatformWorkedWith', 'PurchaseWhat', 'Sexuality', 'SOAccount',\n",
       "       'SOComm', 'SOPartFreq', 'SOVisitFreq', 'SurveyEase', 'SurveyLength',\n",
       "       'Trans', 'UndergradMajor', 'WebframeDesireNextYear',\n",
       "       'WebframeWorkedWith', 'WelcomeChange', 'WorkWeekHrs', 'YearsCode',\n",
       "       'YearsCodePro'],\n",
       "      dtype='object')"
      ]
     },
     "execution_count": 98,
     "metadata": {},
     "output_type": "execute_result"
    }
   ],
   "source": [
    "# Checking the columns in dataframe\n",
    "survey_raw_df.columns"
   ]
  },
  {
   "cell_type": "code",
   "execution_count": 99,
   "id": "95667cea",
   "metadata": {},
   "outputs": [],
   "source": [
    "# Loading the Question file\n",
    "schema_df = pd.read_csv('survey_results_schema2020.csv')"
   ]
  },
  {
   "cell_type": "code",
   "execution_count": 100,
   "id": "faf979a2",
   "metadata": {},
   "outputs": [],
   "source": [
    "schema_df.set_index('Column', inplace = True)"
   ]
  },
  {
   "cell_type": "code",
   "execution_count": 101,
   "id": "cce4b828",
   "metadata": {},
   "outputs": [],
   "source": [
    "#Getting Series from Dataframe\n",
    "schema_raw = schema_df.QuestionText"
   ]
  },
  {
   "cell_type": "markdown",
   "id": "ce230362",
   "metadata": {},
   "source": [
    "Now we can use schema_raw() to retrieve full question"
   ]
  },
  {
   "cell_type": "code",
   "execution_count": 102,
   "id": "4f21c2ab",
   "metadata": {},
   "outputs": [
    {
     "data": {
      "text/plain": [
       "'NOT including education, how many years have you coded professionally (as a part of your work)?'"
      ]
     },
     "execution_count": 102,
     "metadata": {},
     "output_type": "execute_result"
    }
   ],
   "source": [
    "schema_raw['YearsCodePro']"
   ]
  },
  {
   "cell_type": "markdown",
   "id": "a0b56751",
   "metadata": {},
   "source": [
    "Now, we've successfully loaded the dataset of stackoverflow annual survey. We have loaded two datasets: (i) survey_raw_df contains responses of public to questions (ii) schema_raw contains questions asked to public"
   ]
  },
  {
   "cell_type": "markdown",
   "id": "d84ebdb5",
   "metadata": {},
   "source": [
    "# Data Preparation & Cleaning"
   ]
  },
  {
   "cell_type": "markdown",
   "id": "b236b58a",
   "metadata": {},
   "source": [
    "Now there are total 61 columns. But we will perform EDA only on specific columns focusing on 'Demographics', 'Programming Experience', 'Employment'."
   ]
  },
  {
   "cell_type": "code",
   "execution_count": 103,
   "id": "f5ef357b",
   "metadata": {},
   "outputs": [],
   "source": [
    "# We''ll work only on this selected columns\n",
    "selected_columns = [\n",
    "    #Demographics\n",
    "    'Country', 'Age', 'Gender', 'EdLevel', 'UndergradMajor',\n",
    "    #Programming Experience\n",
    "    'Hobbyist','Age1stCode','YearsCode','YearsCodePro','LanguageWorkedWith','LanguageDesireNextYear','NEWLearn','NEWStuck',\n",
    "    #Employment\n",
    "    'Employment','DevType','WorkWeekHrs','JobSat','JobFactors','NEWOvertime','NEWEdImpt'\n",
    "]"
   ]
  },
  {
   "cell_type": "code",
   "execution_count": 104,
   "id": "24ef13c8",
   "metadata": {},
   "outputs": [
    {
     "data": {
      "text/plain": [
       "20"
      ]
     },
     "execution_count": 104,
     "metadata": {},
     "output_type": "execute_result"
    }
   ],
   "source": [
    "len(selected_columns)"
   ]
  },
  {
   "cell_type": "code",
   "execution_count": 105,
   "id": "b496a135",
   "metadata": {},
   "outputs": [],
   "source": [
    "survey_df = survey_raw_df[selected_columns].copy()"
   ]
  },
  {
   "cell_type": "code",
   "execution_count": 106,
   "id": "e4ab3a1d",
   "metadata": {},
   "outputs": [],
   "source": [
    "schema = schema_raw[selected_columns]"
   ]
  },
  {
   "cell_type": "markdown",
   "id": "f0dd4f05",
   "metadata": {},
   "source": [
    "Let's view some basic information about dataframe"
   ]
  },
  {
   "cell_type": "code",
   "execution_count": 107,
   "id": "de1ef577",
   "metadata": {},
   "outputs": [
    {
     "data": {
      "text/plain": [
       "(64461, 20)"
      ]
     },
     "execution_count": 107,
     "metadata": {},
     "output_type": "execute_result"
    }
   ],
   "source": [
    "survey_df.shape"
   ]
  },
  {
   "cell_type": "code",
   "execution_count": 108,
   "id": "d7684ed2",
   "metadata": {},
   "outputs": [
    {
     "data": {
      "text/plain": [
       "(20,)"
      ]
     },
     "execution_count": 108,
     "metadata": {},
     "output_type": "execute_result"
    }
   ],
   "source": [
    "schema.shape"
   ]
  },
  {
   "cell_type": "code",
   "execution_count": 109,
   "id": "594713c3",
   "metadata": {},
   "outputs": [
    {
     "name": "stdout",
     "output_type": "stream",
     "text": [
      "<class 'pandas.core.frame.DataFrame'>\n",
      "RangeIndex: 64461 entries, 0 to 64460\n",
      "Data columns (total 20 columns):\n",
      " #   Column                  Non-Null Count  Dtype  \n",
      "---  ------                  --------------  -----  \n",
      " 0   Country                 64072 non-null  object \n",
      " 1   Age                     45446 non-null  float64\n",
      " 2   Gender                  50557 non-null  object \n",
      " 3   EdLevel                 57431 non-null  object \n",
      " 4   UndergradMajor          50995 non-null  object \n",
      " 5   Hobbyist                64416 non-null  object \n",
      " 6   Age1stCode              57900 non-null  object \n",
      " 7   YearsCode               57684 non-null  object \n",
      " 8   YearsCodePro            46349 non-null  object \n",
      " 9   LanguageWorkedWith      57378 non-null  object \n",
      " 10  LanguageDesireNextYear  54113 non-null  object \n",
      " 11  NEWLearn                56156 non-null  object \n",
      " 12  NEWStuck                54983 non-null  object \n",
      " 13  Employment              63854 non-null  object \n",
      " 14  DevType                 49370 non-null  object \n",
      " 15  WorkWeekHrs             41151 non-null  float64\n",
      " 16  JobSat                  45194 non-null  object \n",
      " 17  JobFactors              49349 non-null  object \n",
      " 18  NEWOvertime             43231 non-null  object \n",
      " 19  NEWEdImpt               48465 non-null  object \n",
      "dtypes: float64(2), object(18)\n",
      "memory usage: 9.8+ MB\n"
     ]
    }
   ],
   "source": [
    "survey_df.info()"
   ]
  },
  {
   "cell_type": "markdown",
   "id": "b5a30cec",
   "metadata": {},
   "source": [
    "Columns like Age1stCode, YearsCode & YearsCodePro can also have numeric datatype"
   ]
  },
  {
   "cell_type": "code",
   "execution_count": 110,
   "id": "88511169",
   "metadata": {},
   "outputs": [
    {
     "data": {
      "text/plain": [
       "'At what age did you write your first line of code or program? (e.g., webpage, Hello World, Scratch project)'"
      ]
     },
     "execution_count": 110,
     "metadata": {},
     "output_type": "execute_result"
    }
   ],
   "source": [
    "schema.Age1stCode"
   ]
  },
  {
   "cell_type": "code",
   "execution_count": 111,
   "id": "6a86e306",
   "metadata": {},
   "outputs": [
    {
     "data": {
      "text/plain": [
       "array(['13', '19', '15', '18', '16', '14', '12', '20', '42', '8', '25',\n",
       "       '22', '30', '17', '21', '10', '46', '9', '7', '11', '6', nan, '31',\n",
       "       '29', '5', 'Younger than 5 years', '28', '38', '23', '27', '41',\n",
       "       '24', '53', '26', '35', '32', '40', '33', '36', '54', '48', '56',\n",
       "       '45', '44', '34', 'Older than 85', '39', '51', '68', '50', '37',\n",
       "       '47', '43', '52', '85', '64', '55', '58', '49', '76', '72', '73',\n",
       "       '83', '63'], dtype=object)"
      ]
     },
     "execution_count": 111,
     "metadata": {},
     "output_type": "execute_result"
    }
   ],
   "source": [
    "survey_df.Age1stCode.unique()"
   ]
  },
  {
   "cell_type": "code",
   "execution_count": 112,
   "id": "876475c1",
   "metadata": {},
   "outputs": [],
   "source": [
    "# Now we want to replace the string values like Younger than 5 years or Older than 85 to blank(nan)\n",
    "survey_df['Age1stCode'] = pd.to_numeric(survey_df.Age1stCode, errors = 'coerce')\n",
    "survey_df['YearsCode'] = pd.to_numeric(survey_df.YearsCode, errors = 'coerce')\n",
    "survey_df['YearsCodePro'] = pd.to_numeric(survey_df.YearsCodePro, errors = 'coerce')"
   ]
  },
  {
   "cell_type": "markdown",
   "id": "23aa9cfd",
   "metadata": {},
   "source": [
    "errors = 'coerce' is used to ignore errors"
   ]
  },
  {
   "cell_type": "code",
   "execution_count": 113,
   "id": "4667242d",
   "metadata": {},
   "outputs": [
    {
     "data": {
      "text/html": [
       "<div>\n",
       "<style scoped>\n",
       "    .dataframe tbody tr th:only-of-type {\n",
       "        vertical-align: middle;\n",
       "    }\n",
       "\n",
       "    .dataframe tbody tr th {\n",
       "        vertical-align: top;\n",
       "    }\n",
       "\n",
       "    .dataframe thead th {\n",
       "        text-align: right;\n",
       "    }\n",
       "</style>\n",
       "<table border=\"1\" class=\"dataframe\">\n",
       "  <thead>\n",
       "    <tr style=\"text-align: right;\">\n",
       "      <th></th>\n",
       "      <th>Age</th>\n",
       "      <th>Age1stCode</th>\n",
       "      <th>YearsCode</th>\n",
       "      <th>YearsCodePro</th>\n",
       "      <th>WorkWeekHrs</th>\n",
       "    </tr>\n",
       "  </thead>\n",
       "  <tbody>\n",
       "    <tr>\n",
       "      <th>count</th>\n",
       "      <td>45446.000000</td>\n",
       "      <td>57473.000000</td>\n",
       "      <td>56784.000000</td>\n",
       "      <td>44133.000000</td>\n",
       "      <td>41151.000000</td>\n",
       "    </tr>\n",
       "    <tr>\n",
       "      <th>mean</th>\n",
       "      <td>30.834111</td>\n",
       "      <td>15.476572</td>\n",
       "      <td>12.782051</td>\n",
       "      <td>8.869667</td>\n",
       "      <td>40.782174</td>\n",
       "    </tr>\n",
       "    <tr>\n",
       "      <th>std</th>\n",
       "      <td>9.585392</td>\n",
       "      <td>5.114081</td>\n",
       "      <td>9.490657</td>\n",
       "      <td>7.759961</td>\n",
       "      <td>17.816383</td>\n",
       "    </tr>\n",
       "    <tr>\n",
       "      <th>min</th>\n",
       "      <td>1.000000</td>\n",
       "      <td>5.000000</td>\n",
       "      <td>1.000000</td>\n",
       "      <td>1.000000</td>\n",
       "      <td>1.000000</td>\n",
       "    </tr>\n",
       "    <tr>\n",
       "      <th>25%</th>\n",
       "      <td>24.000000</td>\n",
       "      <td>12.000000</td>\n",
       "      <td>6.000000</td>\n",
       "      <td>3.000000</td>\n",
       "      <td>40.000000</td>\n",
       "    </tr>\n",
       "    <tr>\n",
       "      <th>50%</th>\n",
       "      <td>29.000000</td>\n",
       "      <td>15.000000</td>\n",
       "      <td>10.000000</td>\n",
       "      <td>6.000000</td>\n",
       "      <td>40.000000</td>\n",
       "    </tr>\n",
       "    <tr>\n",
       "      <th>75%</th>\n",
       "      <td>35.000000</td>\n",
       "      <td>18.000000</td>\n",
       "      <td>17.000000</td>\n",
       "      <td>12.000000</td>\n",
       "      <td>44.000000</td>\n",
       "    </tr>\n",
       "    <tr>\n",
       "      <th>max</th>\n",
       "      <td>279.000000</td>\n",
       "      <td>85.000000</td>\n",
       "      <td>50.000000</td>\n",
       "      <td>50.000000</td>\n",
       "      <td>475.000000</td>\n",
       "    </tr>\n",
       "  </tbody>\n",
       "</table>\n",
       "</div>"
      ],
      "text/plain": [
       "                Age    Age1stCode     YearsCode  YearsCodePro   WorkWeekHrs\n",
       "count  45446.000000  57473.000000  56784.000000  44133.000000  41151.000000\n",
       "mean      30.834111     15.476572     12.782051      8.869667     40.782174\n",
       "std        9.585392      5.114081      9.490657      7.759961     17.816383\n",
       "min        1.000000      5.000000      1.000000      1.000000      1.000000\n",
       "25%       24.000000     12.000000      6.000000      3.000000     40.000000\n",
       "50%       29.000000     15.000000     10.000000      6.000000     40.000000\n",
       "75%       35.000000     18.000000     17.000000     12.000000     44.000000\n",
       "max      279.000000     85.000000     50.000000     50.000000    475.000000"
      ]
     },
     "execution_count": 113,
     "metadata": {},
     "output_type": "execute_result"
    }
   ],
   "source": [
    "#Let's view some basic statistics about numeric column\n",
    "survey_df.describe()"
   ]
  },
  {
   "cell_type": "markdown",
   "id": "f2ac6e72",
   "metadata": {},
   "source": [
    "### Age - There seems to be problem with Age column. As min age cannot be 1 & max age cannot be 279"
   ]
  },
  {
   "cell_type": "markdown",
   "id": "8d45cfa3",
   "metadata": {},
   "source": [
    "drop() - Method used to delete rows containing invalid data"
   ]
  },
  {
   "cell_type": "code",
   "execution_count": 114,
   "id": "0acd0803",
   "metadata": {},
   "outputs": [],
   "source": [
    "survey_df.drop(survey_df[survey_df.Age < 10].index, inplace = True)"
   ]
  },
  {
   "cell_type": "code",
   "execution_count": 115,
   "id": "ecbe5bd0",
   "metadata": {},
   "outputs": [
    {
     "data": {
      "text/plain": [
       "0        False\n",
       "1        False\n",
       "2        False\n",
       "3        False\n",
       "4        False\n",
       "         ...  \n",
       "64456    False\n",
       "64457    False\n",
       "64458    False\n",
       "64459    False\n",
       "64460    False\n",
       "Name: Age, Length: 64452, dtype: bool"
      ]
     },
     "execution_count": 115,
     "metadata": {},
     "output_type": "execute_result"
    }
   ],
   "source": [
    "survey_df.Age > 100"
   ]
  },
  {
   "cell_type": "code",
   "execution_count": 116,
   "id": "37d4ebdf",
   "metadata": {},
   "outputs": [
    {
     "data": {
      "text/html": [
       "<div>\n",
       "<style scoped>\n",
       "    .dataframe tbody tr th:only-of-type {\n",
       "        vertical-align: middle;\n",
       "    }\n",
       "\n",
       "    .dataframe tbody tr th {\n",
       "        vertical-align: top;\n",
       "    }\n",
       "\n",
       "    .dataframe thead th {\n",
       "        text-align: right;\n",
       "    }\n",
       "</style>\n",
       "<table border=\"1\" class=\"dataframe\">\n",
       "  <thead>\n",
       "    <tr style=\"text-align: right;\">\n",
       "      <th></th>\n",
       "      <th>Country</th>\n",
       "      <th>Age</th>\n",
       "      <th>Gender</th>\n",
       "      <th>EdLevel</th>\n",
       "      <th>UndergradMajor</th>\n",
       "      <th>Hobbyist</th>\n",
       "      <th>Age1stCode</th>\n",
       "      <th>YearsCode</th>\n",
       "      <th>YearsCodePro</th>\n",
       "      <th>LanguageWorkedWith</th>\n",
       "      <th>LanguageDesireNextYear</th>\n",
       "      <th>NEWLearn</th>\n",
       "      <th>NEWStuck</th>\n",
       "      <th>Employment</th>\n",
       "      <th>DevType</th>\n",
       "      <th>WorkWeekHrs</th>\n",
       "      <th>JobSat</th>\n",
       "      <th>JobFactors</th>\n",
       "      <th>NEWOvertime</th>\n",
       "      <th>NEWEdImpt</th>\n",
       "    </tr>\n",
       "  </thead>\n",
       "  <tbody>\n",
       "    <tr>\n",
       "      <th>14375</th>\n",
       "      <td>Netherlands</td>\n",
       "      <td>279.0</td>\n",
       "      <td>Man</td>\n",
       "      <td>Bachelor’s degree (B.A., B.S., B.Eng., etc.)</td>\n",
       "      <td>Computer science, computer engineering, or sof...</td>\n",
       "      <td>Yes</td>\n",
       "      <td>16.0</td>\n",
       "      <td>7.0</td>\n",
       "      <td>3.0</td>\n",
       "      <td>C++</td>\n",
       "      <td>Swift</td>\n",
       "      <td>Once every few years</td>\n",
       "      <td>Play games;Call a coworker or friend;Visit Sta...</td>\n",
       "      <td>Employed full-time</td>\n",
       "      <td>Developer, mobile</td>\n",
       "      <td>40.0</td>\n",
       "      <td>Slightly satisfied</td>\n",
       "      <td>Industry that I’d be working in;Specific depar...</td>\n",
       "      <td>Never</td>\n",
       "      <td>Very important</td>\n",
       "    </tr>\n",
       "  </tbody>\n",
       "</table>\n",
       "</div>"
      ],
      "text/plain": [
       "           Country    Age Gender  \\\n",
       "14375  Netherlands  279.0    Man   \n",
       "\n",
       "                                            EdLevel  \\\n",
       "14375  Bachelor’s degree (B.A., B.S., B.Eng., etc.)   \n",
       "\n",
       "                                          UndergradMajor Hobbyist  Age1stCode  \\\n",
       "14375  Computer science, computer engineering, or sof...      Yes        16.0   \n",
       "\n",
       "       YearsCode  YearsCodePro LanguageWorkedWith LanguageDesireNextYear  \\\n",
       "14375        7.0           3.0                C++                  Swift   \n",
       "\n",
       "                   NEWLearn  \\\n",
       "14375  Once every few years   \n",
       "\n",
       "                                                NEWStuck          Employment  \\\n",
       "14375  Play games;Call a coworker or friend;Visit Sta...  Employed full-time   \n",
       "\n",
       "                 DevType  WorkWeekHrs              JobSat  \\\n",
       "14375  Developer, mobile         40.0  Slightly satisfied   \n",
       "\n",
       "                                              JobFactors NEWOvertime  \\\n",
       "14375  Industry that I’d be working in;Specific depar...       Never   \n",
       "\n",
       "            NEWEdImpt  \n",
       "14375  Very important  "
      ]
     },
     "execution_count": 116,
     "metadata": {},
     "output_type": "execute_result"
    }
   ],
   "source": [
    "survey_df[survey_df.Age > 100]"
   ]
  },
  {
   "cell_type": "code",
   "execution_count": 117,
   "id": "a6048a3f",
   "metadata": {},
   "outputs": [
    {
     "data": {
      "text/plain": [
       "Index([14375], dtype='int64')"
      ]
     },
     "execution_count": 117,
     "metadata": {},
     "output_type": "execute_result"
    }
   ],
   "source": [
    "survey_df[survey_df.Age > 100].index"
   ]
  },
  {
   "cell_type": "code",
   "execution_count": 118,
   "id": "00cc3faf",
   "metadata": {},
   "outputs": [],
   "source": [
    "survey_df.drop(survey_df[survey_df.Age > 100].index, inplace = True)"
   ]
  },
  {
   "cell_type": "markdown",
   "id": "b089d04c",
   "metadata": {},
   "source": [
    "### WorkWeekHrs - There seems to be problem with WorkWeekHrs column. As max WorkWeekHrs cannot be 475 "
   ]
  },
  {
   "cell_type": "markdown",
   "id": "baa8614e",
   "metadata": {},
   "source": [
    "Let's Ignore the entries where the value for the column is higher than 140 hours i.e 20 hours per day"
   ]
  },
  {
   "cell_type": "code",
   "execution_count": 119,
   "id": "f6e2bd74",
   "metadata": {},
   "outputs": [],
   "source": [
    "survey_df.drop(survey_df[survey_df.WorkWeekHrs > 140].index , inplace = True)"
   ]
  },
  {
   "cell_type": "code",
   "execution_count": 120,
   "id": "df3b09a4",
   "metadata": {},
   "outputs": [
    {
     "data": {
      "text/html": [
       "<div>\n",
       "<style scoped>\n",
       "    .dataframe tbody tr th:only-of-type {\n",
       "        vertical-align: middle;\n",
       "    }\n",
       "\n",
       "    .dataframe tbody tr th {\n",
       "        vertical-align: top;\n",
       "    }\n",
       "\n",
       "    .dataframe thead th {\n",
       "        text-align: right;\n",
       "    }\n",
       "</style>\n",
       "<table border=\"1\" class=\"dataframe\">\n",
       "  <thead>\n",
       "    <tr style=\"text-align: right;\">\n",
       "      <th></th>\n",
       "      <th>Age</th>\n",
       "      <th>Age1stCode</th>\n",
       "      <th>YearsCode</th>\n",
       "      <th>YearsCodePro</th>\n",
       "      <th>WorkWeekHrs</th>\n",
       "    </tr>\n",
       "  </thead>\n",
       "  <tbody>\n",
       "    <tr>\n",
       "      <th>count</th>\n",
       "      <td>45319.000000</td>\n",
       "      <td>57326.000000</td>\n",
       "      <td>56636.000000</td>\n",
       "      <td>43993.000000</td>\n",
       "      <td>41002.000000</td>\n",
       "    </tr>\n",
       "    <tr>\n",
       "      <th>mean</th>\n",
       "      <td>30.832322</td>\n",
       "      <td>15.475317</td>\n",
       "      <td>12.783883</td>\n",
       "      <td>8.873003</td>\n",
       "      <td>40.024395</td>\n",
       "    </tr>\n",
       "    <tr>\n",
       "      <th>std</th>\n",
       "      <td>9.505965</td>\n",
       "      <td>5.114952</td>\n",
       "      <td>9.494519</td>\n",
       "      <td>7.762089</td>\n",
       "      <td>10.630010</td>\n",
       "    </tr>\n",
       "    <tr>\n",
       "      <th>min</th>\n",
       "      <td>10.000000</td>\n",
       "      <td>5.000000</td>\n",
       "      <td>1.000000</td>\n",
       "      <td>1.000000</td>\n",
       "      <td>1.000000</td>\n",
       "    </tr>\n",
       "    <tr>\n",
       "      <th>25%</th>\n",
       "      <td>24.000000</td>\n",
       "      <td>12.000000</td>\n",
       "      <td>6.000000</td>\n",
       "      <td>3.000000</td>\n",
       "      <td>40.000000</td>\n",
       "    </tr>\n",
       "    <tr>\n",
       "      <th>50%</th>\n",
       "      <td>29.000000</td>\n",
       "      <td>15.000000</td>\n",
       "      <td>10.000000</td>\n",
       "      <td>6.000000</td>\n",
       "      <td>40.000000</td>\n",
       "    </tr>\n",
       "    <tr>\n",
       "      <th>75%</th>\n",
       "      <td>35.000000</td>\n",
       "      <td>18.000000</td>\n",
       "      <td>17.000000</td>\n",
       "      <td>12.000000</td>\n",
       "      <td>43.000000</td>\n",
       "    </tr>\n",
       "    <tr>\n",
       "      <th>max</th>\n",
       "      <td>99.000000</td>\n",
       "      <td>85.000000</td>\n",
       "      <td>50.000000</td>\n",
       "      <td>50.000000</td>\n",
       "      <td>140.000000</td>\n",
       "    </tr>\n",
       "  </tbody>\n",
       "</table>\n",
       "</div>"
      ],
      "text/plain": [
       "                Age    Age1stCode     YearsCode  YearsCodePro   WorkWeekHrs\n",
       "count  45319.000000  57326.000000  56636.000000  43993.000000  41002.000000\n",
       "mean      30.832322     15.475317     12.783883      8.873003     40.024395\n",
       "std        9.505965      5.114952      9.494519      7.762089     10.630010\n",
       "min       10.000000      5.000000      1.000000      1.000000      1.000000\n",
       "25%       24.000000     12.000000      6.000000      3.000000     40.000000\n",
       "50%       29.000000     15.000000     10.000000      6.000000     40.000000\n",
       "75%       35.000000     18.000000     17.000000     12.000000     43.000000\n",
       "max       99.000000     85.000000     50.000000     50.000000    140.000000"
      ]
     },
     "execution_count": 120,
     "metadata": {},
     "output_type": "execute_result"
    }
   ],
   "source": [
    "survey_df.describe()"
   ]
  },
  {
   "cell_type": "markdown",
   "id": "02bcf306",
   "metadata": {},
   "source": [
    "### Gender column (sometimes) has multiple values"
   ]
  },
  {
   "cell_type": "markdown",
   "id": "1a22a8be",
   "metadata": {},
   "source": [
    "We'll simplify our analysis by removing data that has multiple values for a single gender question"
   ]
  },
  {
   "cell_type": "code",
   "execution_count": 121,
   "id": "3ba7c12f",
   "metadata": {},
   "outputs": [
    {
     "data": {
      "text/plain": [
       "'Which of the following describe you, if any? Please check all that apply. If you prefer not to answer, you may leave this question blank.'"
      ]
     },
     "execution_count": 121,
     "metadata": {},
     "output_type": "execute_result"
    }
   ],
   "source": [
    "schema.Gender"
   ]
  },
  {
   "cell_type": "code",
   "execution_count": 122,
   "id": "a13b9049",
   "metadata": {},
   "outputs": [
    {
     "data": {
      "text/plain": [
       "array(['Man', nan, 'Woman',\n",
       "       'Man;Non-binary, genderqueer, or gender non-conforming',\n",
       "       'Non-binary, genderqueer, or gender non-conforming',\n",
       "       'Woman;Non-binary, genderqueer, or gender non-conforming',\n",
       "       'Woman;Man;Non-binary, genderqueer, or gender non-conforming',\n",
       "       'Woman;Man'], dtype=object)"
      ]
     },
     "execution_count": 122,
     "metadata": {},
     "output_type": "execute_result"
    }
   ],
   "source": [
    "survey_df.Gender.unique()"
   ]
  },
  {
   "cell_type": "code",
   "execution_count": 123,
   "id": "729afd22",
   "metadata": {},
   "outputs": [
    {
     "data": {
      "text/plain": [
       "Gender\n",
       "Man                                                            45895\n",
       "Woman                                                           3835\n",
       "Non-binary, genderqueer, or gender non-conforming                385\n",
       "Man;Non-binary, genderqueer, or gender non-conforming            121\n",
       "Woman;Non-binary, genderqueer, or gender non-conforming           92\n",
       "Woman;Man                                                         73\n",
       "Woman;Man;Non-binary, genderqueer, or gender non-conforming       25\n",
       "Name: count, dtype: int64"
      ]
     },
     "execution_count": 123,
     "metadata": {},
     "output_type": "execute_result"
    }
   ],
   "source": [
    "survey_df.Gender.value_counts()"
   ]
  },
  {
   "cell_type": "markdown",
   "id": "30affa3c",
   "metadata": {},
   "source": [
    "So we'll going to replace columns with multiple genger data to blank columns<br>\n",
    "The column's containing multiple gender values can be identified using ';' as semi-colon is used to put multiple values"
   ]
  },
  {
   "cell_type": "code",
   "execution_count": 124,
   "id": "9e8cea16",
   "metadata": {},
   "outputs": [],
   "source": [
    "import numpy as np"
   ]
  },
  {
   "cell_type": "code",
   "execution_count": 125,
   "id": "399b7871",
   "metadata": {},
   "outputs": [],
   "source": [
    "survey_df.where(~(survey_df.Gender.str.contains(';', na = False)), np.nan, inplace = True)"
   ]
  },
  {
   "cell_type": "code",
   "execution_count": 126,
   "id": "8aeb0cb2",
   "metadata": {},
   "outputs": [
    {
     "data": {
      "text/plain": [
       "Gender\n",
       "Man                                                  45895\n",
       "Woman                                                 3835\n",
       "Non-binary, genderqueer, or gender non-conforming      385\n",
       "Name: count, dtype: int64"
      ]
     },
     "execution_count": 126,
     "metadata": {},
     "output_type": "execute_result"
    }
   ],
   "source": [
    "survey_df.Gender.value_counts()"
   ]
  },
  {
   "cell_type": "code",
   "execution_count": 127,
   "id": "10794aa1",
   "metadata": {},
   "outputs": [
    {
     "data": {
      "text/html": [
       "<div>\n",
       "<style scoped>\n",
       "    .dataframe tbody tr th:only-of-type {\n",
       "        vertical-align: middle;\n",
       "    }\n",
       "\n",
       "    .dataframe tbody tr th {\n",
       "        vertical-align: top;\n",
       "    }\n",
       "\n",
       "    .dataframe thead th {\n",
       "        text-align: right;\n",
       "    }\n",
       "</style>\n",
       "<table border=\"1\" class=\"dataframe\">\n",
       "  <thead>\n",
       "    <tr style=\"text-align: right;\">\n",
       "      <th></th>\n",
       "      <th>Country</th>\n",
       "      <th>Age</th>\n",
       "      <th>Gender</th>\n",
       "      <th>EdLevel</th>\n",
       "      <th>UndergradMajor</th>\n",
       "      <th>Hobbyist</th>\n",
       "      <th>Age1stCode</th>\n",
       "      <th>YearsCode</th>\n",
       "      <th>YearsCodePro</th>\n",
       "      <th>LanguageWorkedWith</th>\n",
       "      <th>LanguageDesireNextYear</th>\n",
       "      <th>NEWLearn</th>\n",
       "      <th>NEWStuck</th>\n",
       "      <th>Employment</th>\n",
       "      <th>DevType</th>\n",
       "      <th>WorkWeekHrs</th>\n",
       "      <th>JobSat</th>\n",
       "      <th>JobFactors</th>\n",
       "      <th>NEWOvertime</th>\n",
       "      <th>NEWEdImpt</th>\n",
       "    </tr>\n",
       "  </thead>\n",
       "  <tbody>\n",
       "    <tr>\n",
       "      <th>40299</th>\n",
       "      <td>Australia</td>\n",
       "      <td>NaN</td>\n",
       "      <td>NaN</td>\n",
       "      <td>NaN</td>\n",
       "      <td>NaN</td>\n",
       "      <td>Yes</td>\n",
       "      <td>NaN</td>\n",
       "      <td>NaN</td>\n",
       "      <td>NaN</td>\n",
       "      <td>NaN</td>\n",
       "      <td>NaN</td>\n",
       "      <td>NaN</td>\n",
       "      <td>NaN</td>\n",
       "      <td>Not employed, but looking for work</td>\n",
       "      <td>NaN</td>\n",
       "      <td>NaN</td>\n",
       "      <td>NaN</td>\n",
       "      <td>NaN</td>\n",
       "      <td>NaN</td>\n",
       "      <td>NaN</td>\n",
       "    </tr>\n",
       "    <tr>\n",
       "      <th>45675</th>\n",
       "      <td>Australia</td>\n",
       "      <td>28.0</td>\n",
       "      <td>Man</td>\n",
       "      <td>Other doctoral degree (Ph.D., Ed.D., etc.)</td>\n",
       "      <td>Computer science, computer engineering, or sof...</td>\n",
       "      <td>Yes</td>\n",
       "      <td>11.0</td>\n",
       "      <td>9.0</td>\n",
       "      <td>2.0</td>\n",
       "      <td>Bash/Shell/PowerShell;C#;HTML/CSS;JavaScript;P...</td>\n",
       "      <td>NaN</td>\n",
       "      <td>NaN</td>\n",
       "      <td>Visit Stack Overflow;Go for a walk or other ph...</td>\n",
       "      <td>Independent contractor, freelancer, or self-em...</td>\n",
       "      <td>Academic researcher;Data or business analyst;E...</td>\n",
       "      <td>38.0</td>\n",
       "      <td>Slightly satisfied</td>\n",
       "      <td>Diversity of the company or organization;Flex ...</td>\n",
       "      <td>Rarely: 1-2 days per year or less</td>\n",
       "      <td>Fairly important</td>\n",
       "    </tr>\n",
       "    <tr>\n",
       "      <th>50926</th>\n",
       "      <td>Switzerland</td>\n",
       "      <td>46.0</td>\n",
       "      <td>Man</td>\n",
       "      <td>Master’s degree (M.A., M.S., M.Eng., MBA, etc.)</td>\n",
       "      <td>Computer science, computer engineering, or sof...</td>\n",
       "      <td>Yes</td>\n",
       "      <td>10.0</td>\n",
       "      <td>36.0</td>\n",
       "      <td>20.0</td>\n",
       "      <td>C#</td>\n",
       "      <td>C#</td>\n",
       "      <td>Every few months</td>\n",
       "      <td>Meditate;Call a coworker or friend;Visit Stack...</td>\n",
       "      <td>Employed full-time</td>\n",
       "      <td>Data or business analyst;Developer, back-end;D...</td>\n",
       "      <td>40.0</td>\n",
       "      <td>Very satisfied</td>\n",
       "      <td>Diversity of the company or organization;Langu...</td>\n",
       "      <td>Rarely: 1-2 days per year or less</td>\n",
       "      <td>Critically important</td>\n",
       "    </tr>\n",
       "    <tr>\n",
       "      <th>54758</th>\n",
       "      <td>Bulgaria</td>\n",
       "      <td>29.0</td>\n",
       "      <td>Man</td>\n",
       "      <td>Master’s degree (M.A., M.S., M.Eng., MBA, etc.)</td>\n",
       "      <td>Mathematics or statistics</td>\n",
       "      <td>Yes</td>\n",
       "      <td>18.0</td>\n",
       "      <td>6.0</td>\n",
       "      <td>6.0</td>\n",
       "      <td>Julia;Python;R;Scala;SQL;Swift</td>\n",
       "      <td>Julia;Python;R;Scala;SQL;Swift</td>\n",
       "      <td>Every few months</td>\n",
       "      <td>Visit Stack Overflow;Go for a walk or other ph...</td>\n",
       "      <td>Employed full-time</td>\n",
       "      <td>Data scientist or machine learning specialist</td>\n",
       "      <td>40.0</td>\n",
       "      <td>Very satisfied</td>\n",
       "      <td>Diversity of the company or organization;Remot...</td>\n",
       "      <td>Rarely: 1-2 days per year or less</td>\n",
       "      <td>Not at all important/not necessary</td>\n",
       "    </tr>\n",
       "    <tr>\n",
       "      <th>51939</th>\n",
       "      <td>United States</td>\n",
       "      <td>NaN</td>\n",
       "      <td>Man</td>\n",
       "      <td>Bachelor’s degree (B.A., B.S., B.Eng., etc.)</td>\n",
       "      <td>A business discipline (such as accounting, fin...</td>\n",
       "      <td>Yes</td>\n",
       "      <td>18.0</td>\n",
       "      <td>7.0</td>\n",
       "      <td>3.0</td>\n",
       "      <td>HTML/CSS;Java;JavaScript;SQL;TypeScript</td>\n",
       "      <td>C++;Go;Python;Rust</td>\n",
       "      <td>Once a year</td>\n",
       "      <td>Call a coworker or friend;Visit Stack Overflow...</td>\n",
       "      <td>Employed full-time</td>\n",
       "      <td>Developer, full-stack</td>\n",
       "      <td>NaN</td>\n",
       "      <td>Slightly dissatisfied</td>\n",
       "      <td>How widely used or impactful my work output wo...</td>\n",
       "      <td>Often: 1-2 days per week or more</td>\n",
       "      <td>Not at all important/not necessary</td>\n",
       "    </tr>\n",
       "    <tr>\n",
       "      <th>10079</th>\n",
       "      <td>Portugal</td>\n",
       "      <td>26.0</td>\n",
       "      <td>Woman</td>\n",
       "      <td>Master’s degree (M.A., M.S., M.Eng., MBA, etc.)</td>\n",
       "      <td>Computer science, computer engineering, or sof...</td>\n",
       "      <td>No</td>\n",
       "      <td>16.0</td>\n",
       "      <td>6.0</td>\n",
       "      <td>2.0</td>\n",
       "      <td>Bash/Shell/PowerShell;Haskell;HTML/CSS;Java;Ja...</td>\n",
       "      <td>Bash/Shell/PowerShell;Go;HTML/CSS;Java;JavaScr...</td>\n",
       "      <td>Once a year</td>\n",
       "      <td>Play games;Visit Stack Overflow;Panic;Watch he...</td>\n",
       "      <td>Employed full-time</td>\n",
       "      <td>Developer, full-stack</td>\n",
       "      <td>8.0</td>\n",
       "      <td>Slightly satisfied</td>\n",
       "      <td>Industry that I’d be working in;Flex time or a...</td>\n",
       "      <td>Often: 1-2 days per week or more</td>\n",
       "      <td>NaN</td>\n",
       "    </tr>\n",
       "    <tr>\n",
       "      <th>4499</th>\n",
       "      <td>Algeria</td>\n",
       "      <td>24.0</td>\n",
       "      <td>Man</td>\n",
       "      <td>Master’s degree (M.A., M.S., M.Eng., MBA, etc.)</td>\n",
       "      <td>A humanities discipline (such as literature, h...</td>\n",
       "      <td>Yes</td>\n",
       "      <td>17.0</td>\n",
       "      <td>7.0</td>\n",
       "      <td>NaN</td>\n",
       "      <td>HTML/CSS;JavaScript;PHP;SQL</td>\n",
       "      <td>Bash/Shell/PowerShell;C;Dart;HTML/CSS;JavaScri...</td>\n",
       "      <td>Every few months</td>\n",
       "      <td>Visit Stack Overflow;Go for a walk or other ph...</td>\n",
       "      <td>Not employed, but looking for work</td>\n",
       "      <td>Developer, full-stack</td>\n",
       "      <td>NaN</td>\n",
       "      <td>NaN</td>\n",
       "      <td>NaN</td>\n",
       "      <td>NaN</td>\n",
       "      <td>Not at all important/not necessary</td>\n",
       "    </tr>\n",
       "    <tr>\n",
       "      <th>6552</th>\n",
       "      <td>India</td>\n",
       "      <td>NaN</td>\n",
       "      <td>Man</td>\n",
       "      <td>I never completed any formal education</td>\n",
       "      <td>NaN</td>\n",
       "      <td>Yes</td>\n",
       "      <td>20.0</td>\n",
       "      <td>10.0</td>\n",
       "      <td>9.0</td>\n",
       "      <td>HTML/CSS;Java;JavaScript;Kotlin;SQL</td>\n",
       "      <td>Dart;Go</td>\n",
       "      <td>Once a year</td>\n",
       "      <td>Visit Stack Overflow;Watch help / tutorial videos</td>\n",
       "      <td>Employed full-time</td>\n",
       "      <td>Designer;Developer, desktop or enterprise appl...</td>\n",
       "      <td>NaN</td>\n",
       "      <td>Very satisfied</td>\n",
       "      <td>Flex time or a flexible schedule;Remote work o...</td>\n",
       "      <td>Sometimes: 1-2 days per month but less than we...</td>\n",
       "      <td>NaN</td>\n",
       "    </tr>\n",
       "    <tr>\n",
       "      <th>56427</th>\n",
       "      <td>France</td>\n",
       "      <td>24.0</td>\n",
       "      <td>Man</td>\n",
       "      <td>Master’s degree (M.A., M.S., M.Eng., MBA, etc.)</td>\n",
       "      <td>Web development or web design</td>\n",
       "      <td>Yes</td>\n",
       "      <td>14.0</td>\n",
       "      <td>4.0</td>\n",
       "      <td>2.0</td>\n",
       "      <td>Bash/Shell/PowerShell;Go;Java;JavaScript;Kotli...</td>\n",
       "      <td>Go;JavaScript;Kotlin;PHP;SQL;TypeScript</td>\n",
       "      <td>Every few months</td>\n",
       "      <td>Call a coworker or friend;Visit Stack Overflow...</td>\n",
       "      <td>Employed full-time</td>\n",
       "      <td>Developer, back-end;Developer, full-stack;Deve...</td>\n",
       "      <td>35.0</td>\n",
       "      <td>Very satisfied</td>\n",
       "      <td>Flex time or a flexible schedule;Languages, fr...</td>\n",
       "      <td>Often: 1-2 days per week or more</td>\n",
       "      <td>Not at all important/not necessary</td>\n",
       "    </tr>\n",
       "    <tr>\n",
       "      <th>20621</th>\n",
       "      <td>Australia</td>\n",
       "      <td>27.0</td>\n",
       "      <td>Woman</td>\n",
       "      <td>Master’s degree (M.A., M.S., M.Eng., MBA, etc.)</td>\n",
       "      <td>Mathematics or statistics</td>\n",
       "      <td>No</td>\n",
       "      <td>19.0</td>\n",
       "      <td>8.0</td>\n",
       "      <td>2.0</td>\n",
       "      <td>Bash/Shell/PowerShell;Python;R;SQL</td>\n",
       "      <td>Bash/Shell/PowerShell;Python;R</td>\n",
       "      <td>Once a year</td>\n",
       "      <td>Visit Stack Overflow;Do other work and come ba...</td>\n",
       "      <td>Employed full-time</td>\n",
       "      <td>Data scientist or machine learning specialist</td>\n",
       "      <td>40.0</td>\n",
       "      <td>Slightly satisfied</td>\n",
       "      <td>Industry that I’d be working in;Languages, fra...</td>\n",
       "      <td>Never</td>\n",
       "      <td>Very important</td>\n",
       "    </tr>\n",
       "  </tbody>\n",
       "</table>\n",
       "</div>"
      ],
      "text/plain": [
       "             Country   Age Gender  \\\n",
       "40299      Australia   NaN    NaN   \n",
       "45675      Australia  28.0    Man   \n",
       "50926    Switzerland  46.0    Man   \n",
       "54758       Bulgaria  29.0    Man   \n",
       "51939  United States   NaN    Man   \n",
       "10079       Portugal  26.0  Woman   \n",
       "4499         Algeria  24.0    Man   \n",
       "6552           India   NaN    Man   \n",
       "56427         France  24.0    Man   \n",
       "20621      Australia  27.0  Woman   \n",
       "\n",
       "                                               EdLevel  \\\n",
       "40299                                              NaN   \n",
       "45675       Other doctoral degree (Ph.D., Ed.D., etc.)   \n",
       "50926  Master’s degree (M.A., M.S., M.Eng., MBA, etc.)   \n",
       "54758  Master’s degree (M.A., M.S., M.Eng., MBA, etc.)   \n",
       "51939     Bachelor’s degree (B.A., B.S., B.Eng., etc.)   \n",
       "10079  Master’s degree (M.A., M.S., M.Eng., MBA, etc.)   \n",
       "4499   Master’s degree (M.A., M.S., M.Eng., MBA, etc.)   \n",
       "6552            I never completed any formal education   \n",
       "56427  Master’s degree (M.A., M.S., M.Eng., MBA, etc.)   \n",
       "20621  Master’s degree (M.A., M.S., M.Eng., MBA, etc.)   \n",
       "\n",
       "                                          UndergradMajor Hobbyist  Age1stCode  \\\n",
       "40299                                                NaN      Yes         NaN   \n",
       "45675  Computer science, computer engineering, or sof...      Yes        11.0   \n",
       "50926  Computer science, computer engineering, or sof...      Yes        10.0   \n",
       "54758                          Mathematics or statistics      Yes        18.0   \n",
       "51939  A business discipline (such as accounting, fin...      Yes        18.0   \n",
       "10079  Computer science, computer engineering, or sof...       No        16.0   \n",
       "4499   A humanities discipline (such as literature, h...      Yes        17.0   \n",
       "6552                                                 NaN      Yes        20.0   \n",
       "56427                      Web development or web design      Yes        14.0   \n",
       "20621                          Mathematics or statistics       No        19.0   \n",
       "\n",
       "       YearsCode  YearsCodePro  \\\n",
       "40299        NaN           NaN   \n",
       "45675        9.0           2.0   \n",
       "50926       36.0          20.0   \n",
       "54758        6.0           6.0   \n",
       "51939        7.0           3.0   \n",
       "10079        6.0           2.0   \n",
       "4499         7.0           NaN   \n",
       "6552        10.0           9.0   \n",
       "56427        4.0           2.0   \n",
       "20621        8.0           2.0   \n",
       "\n",
       "                                      LanguageWorkedWith  \\\n",
       "40299                                                NaN   \n",
       "45675  Bash/Shell/PowerShell;C#;HTML/CSS;JavaScript;P...   \n",
       "50926                                                 C#   \n",
       "54758                     Julia;Python;R;Scala;SQL;Swift   \n",
       "51939            HTML/CSS;Java;JavaScript;SQL;TypeScript   \n",
       "10079  Bash/Shell/PowerShell;Haskell;HTML/CSS;Java;Ja...   \n",
       "4499                         HTML/CSS;JavaScript;PHP;SQL   \n",
       "6552                 HTML/CSS;Java;JavaScript;Kotlin;SQL   \n",
       "56427  Bash/Shell/PowerShell;Go;Java;JavaScript;Kotli...   \n",
       "20621                 Bash/Shell/PowerShell;Python;R;SQL   \n",
       "\n",
       "                                  LanguageDesireNextYear          NEWLearn  \\\n",
       "40299                                                NaN               NaN   \n",
       "45675                                                NaN               NaN   \n",
       "50926                                                 C#  Every few months   \n",
       "54758                     Julia;Python;R;Scala;SQL;Swift  Every few months   \n",
       "51939                                 C++;Go;Python;Rust       Once a year   \n",
       "10079  Bash/Shell/PowerShell;Go;HTML/CSS;Java;JavaScr...       Once a year   \n",
       "4499   Bash/Shell/PowerShell;C;Dart;HTML/CSS;JavaScri...  Every few months   \n",
       "6552                                             Dart;Go       Once a year   \n",
       "56427            Go;JavaScript;Kotlin;PHP;SQL;TypeScript  Every few months   \n",
       "20621                     Bash/Shell/PowerShell;Python;R       Once a year   \n",
       "\n",
       "                                                NEWStuck  \\\n",
       "40299                                                NaN   \n",
       "45675  Visit Stack Overflow;Go for a walk or other ph...   \n",
       "50926  Meditate;Call a coworker or friend;Visit Stack...   \n",
       "54758  Visit Stack Overflow;Go for a walk or other ph...   \n",
       "51939  Call a coworker or friend;Visit Stack Overflow...   \n",
       "10079  Play games;Visit Stack Overflow;Panic;Watch he...   \n",
       "4499   Visit Stack Overflow;Go for a walk or other ph...   \n",
       "6552   Visit Stack Overflow;Watch help / tutorial videos   \n",
       "56427  Call a coworker or friend;Visit Stack Overflow...   \n",
       "20621  Visit Stack Overflow;Do other work and come ba...   \n",
       "\n",
       "                                              Employment  \\\n",
       "40299                 Not employed, but looking for work   \n",
       "45675  Independent contractor, freelancer, or self-em...   \n",
       "50926                                 Employed full-time   \n",
       "54758                                 Employed full-time   \n",
       "51939                                 Employed full-time   \n",
       "10079                                 Employed full-time   \n",
       "4499                  Not employed, but looking for work   \n",
       "6552                                  Employed full-time   \n",
       "56427                                 Employed full-time   \n",
       "20621                                 Employed full-time   \n",
       "\n",
       "                                                 DevType  WorkWeekHrs  \\\n",
       "40299                                                NaN          NaN   \n",
       "45675  Academic researcher;Data or business analyst;E...         38.0   \n",
       "50926  Data or business analyst;Developer, back-end;D...         40.0   \n",
       "54758      Data scientist or machine learning specialist         40.0   \n",
       "51939                              Developer, full-stack          NaN   \n",
       "10079                              Developer, full-stack          8.0   \n",
       "4499                               Developer, full-stack          NaN   \n",
       "6552   Designer;Developer, desktop or enterprise appl...          NaN   \n",
       "56427  Developer, back-end;Developer, full-stack;Deve...         35.0   \n",
       "20621      Data scientist or machine learning specialist         40.0   \n",
       "\n",
       "                      JobSat  \\\n",
       "40299                    NaN   \n",
       "45675     Slightly satisfied   \n",
       "50926         Very satisfied   \n",
       "54758         Very satisfied   \n",
       "51939  Slightly dissatisfied   \n",
       "10079     Slightly satisfied   \n",
       "4499                     NaN   \n",
       "6552          Very satisfied   \n",
       "56427         Very satisfied   \n",
       "20621     Slightly satisfied   \n",
       "\n",
       "                                              JobFactors  \\\n",
       "40299                                                NaN   \n",
       "45675  Diversity of the company or organization;Flex ...   \n",
       "50926  Diversity of the company or organization;Langu...   \n",
       "54758  Diversity of the company or organization;Remot...   \n",
       "51939  How widely used or impactful my work output wo...   \n",
       "10079  Industry that I’d be working in;Flex time or a...   \n",
       "4499                                                 NaN   \n",
       "6552   Flex time or a flexible schedule;Remote work o...   \n",
       "56427  Flex time or a flexible schedule;Languages, fr...   \n",
       "20621  Industry that I’d be working in;Languages, fra...   \n",
       "\n",
       "                                             NEWOvertime  \\\n",
       "40299                                                NaN   \n",
       "45675                  Rarely: 1-2 days per year or less   \n",
       "50926                  Rarely: 1-2 days per year or less   \n",
       "54758                  Rarely: 1-2 days per year or less   \n",
       "51939                   Often: 1-2 days per week or more   \n",
       "10079                   Often: 1-2 days per week or more   \n",
       "4499                                                 NaN   \n",
       "6552   Sometimes: 1-2 days per month but less than we...   \n",
       "56427                   Often: 1-2 days per week or more   \n",
       "20621                                              Never   \n",
       "\n",
       "                                NEWEdImpt  \n",
       "40299                                 NaN  \n",
       "45675                    Fairly important  \n",
       "50926                Critically important  \n",
       "54758  Not at all important/not necessary  \n",
       "51939  Not at all important/not necessary  \n",
       "10079                                 NaN  \n",
       "4499   Not at all important/not necessary  \n",
       "6552                                  NaN  \n",
       "56427  Not at all important/not necessary  \n",
       "20621                      Very important  "
      ]
     },
     "execution_count": 127,
     "metadata": {},
     "output_type": "execute_result"
    }
   ],
   "source": [
    "# Seeing Random 10 rows\n",
    "survey_df.sample(10)"
   ]
  },
  {
   "cell_type": "markdown",
   "id": "5fbb0954",
   "metadata": {},
   "source": [
    "# Step 3 - EDA & Visualization"
   ]
  },
  {
   "cell_type": "code",
   "execution_count": 150,
   "id": "45666704",
   "metadata": {},
   "outputs": [],
   "source": [
    "import seaborn as sns\n",
    "import matplotlib \n",
    "import matplotlib.pyplot as plt"
   ]
  },
  {
   "cell_type": "code",
   "execution_count": 151,
   "id": "03814080",
   "metadata": {},
   "outputs": [],
   "source": [
    "# Setting backround of graphs\n",
    "sns.set_style('darkgrid')"
   ]
  },
  {
   "cell_type": "code",
   "execution_count": 152,
   "id": "36f9c90c",
   "metadata": {},
   "outputs": [],
   "source": [
    "# Setting default parameters\n",
    "matplotlib.rcParams['font.size'] = 14\n",
    "matplotlib.rcParams['figure.figsize'] = (9,5)\n",
    "matplotlib.rcParams['figure.facecolor'] = '#00000000'"
   ]
  },
  {
   "cell_type": "markdown",
   "id": "c6984a9a",
   "metadata": {},
   "source": [
    "## Country"
   ]
  },
  {
   "cell_type": "markdown",
   "id": "3949fc81",
   "metadata": {},
   "source": [
    "Let's look at the no.of countries from which there are responses in the survey and plot the 10 countries with the highest no. of responses"
   ]
  },
  {
   "cell_type": "code",
   "execution_count": 132,
   "id": "500e46fb",
   "metadata": {},
   "outputs": [
    {
     "data": {
      "text/plain": [
       "'Where do you live?'"
      ]
     },
     "execution_count": 132,
     "metadata": {},
     "output_type": "execute_result"
    }
   ],
   "source": [
    "schema.Country"
   ]
  },
  {
   "cell_type": "code",
   "execution_count": 134,
   "id": "259ebc23",
   "metadata": {},
   "outputs": [
    {
     "data": {
      "text/plain": [
       "array(['Germany', 'United Kingdom', 'Russian Federation', 'Albania',\n",
       "       'United States', 'India', 'Tunisia', 'Spain', 'Netherlands',\n",
       "       'France', 'Belgium', 'Portugal', 'Canada', 'China', 'Ukraine',\n",
       "       'Italy', 'Brazil', 'Austria', 'Mexico', 'Sweden', 'Poland',\n",
       "       'Indonesia', 'Greece', 'Israel', 'Czech Republic', nan,\n",
       "       'Bosnia and Herzegovina', 'Bulgaria', 'Serbia', 'Switzerland',\n",
       "       'Hungary', 'Nepal', 'Slovenia', 'Uruguay', 'Denmark', 'Pakistan',\n",
       "       'Taiwan', 'Romania', 'Finland', 'Costa Rica', 'Nigeria', 'Chile',\n",
       "       'Turkey', 'Panama', 'Ireland', 'Estonia', 'Philippines',\n",
       "       'Australia', 'Nomadic', 'Peru', 'Cyprus', 'Sri Lanka', 'Kenya',\n",
       "       'Norway', 'Iran', 'Croatia', 'Egypt', 'Argentina', 'Ghana',\n",
       "       'Latvia', 'Morocco', 'Bangladesh', 'Ecuador', 'Haiti',\n",
       "       'Venezuela, Bolivarian Republic of...', 'Colombia', 'Lithuania',\n",
       "       'El Salvador', 'Honduras', 'Ethiopia', 'Lebanon', 'Uganda',\n",
       "       'Algeria', 'Viet Nam', 'Guatemala', 'Syrian Arab Republic',\n",
       "       'Afghanistan', 'Slovakia', 'United Arab Emirates', 'Belarus',\n",
       "       'Sudan', 'South Africa', 'Jordan', 'Georgia',\n",
       "       'United Republic of Tanzania', 'Antigua and Barbuda',\n",
       "       'Saudi Arabia', 'New Zealand', 'Kuwait', 'Armenia',\n",
       "       'Republic of Moldova', 'Cuba', 'Luxembourg', 'Singapore',\n",
       "       'Azerbaijan', 'Dominican Republic', 'Iceland', 'Isle of Man',\n",
       "       'Uzbekistan', 'Trinidad and Tobago', 'Senegal', 'Andorra',\n",
       "       'Turkmenistan', 'Hong Kong (S.A.R.)', 'Benin', 'Bolivia',\n",
       "       'Republic of Korea', 'Japan', 'Malta', 'Iraq', 'South Korea',\n",
       "       'Paraguay', 'Malaysia', 'Thailand', 'Myanmar', 'Kazakhstan',\n",
       "       'Cambodia', 'Jamaica', 'Nicaragua', 'Maldives',\n",
       "       'Democratic Republic of the Congo', 'Papua New Guinea', 'Oman',\n",
       "       'The former Yugoslav Republic of Macedonia', 'Malawi',\n",
       "       'Kyrgyzstan', 'Qatar', 'Madagascar', 'Botswana', 'Montenegro',\n",
       "       'Yemen', 'Mongolia', 'Kosovo', 'Zambia', 'Zimbabwe',\n",
       "       'Libyan Arab Jamahiriya', 'Mozambique', 'Somalia', 'Eritrea',\n",
       "       'Namibia', 'Rwanda', 'Burkina Faso', 'Congo, Republic of the...',\n",
       "       'Swaziland', 'Bhutan', 'Cameroon', 'Bahrain', \"Côte d'Ivoire\",\n",
       "       'Sierra Leone', 'Togo', 'Niger', 'Barbados', 'Belize',\n",
       "       'Saint Vincent and the Grenadines',\n",
       "       \"Lao People's Democratic Republic\", 'Tajikistan', 'Mauritius',\n",
       "       'Guinea', 'Brunei Darussalam', 'Bahamas', 'Mauritania', 'Angola',\n",
       "       'Saint Lucia', 'Djibouti', 'San Marino', 'Lesotho', 'Nauru',\n",
       "       'Burundi', 'Fiji', 'Kiribati', 'Grenada', 'Chad', 'Mali', 'Guyana',\n",
       "       'Micronesia, Federated States of...', 'Gambia', 'North Korea',\n",
       "       'Liechtenstein', 'Monaco', 'Timor-Leste', 'Solomon Islands',\n",
       "       'Cape Verde', 'Gabon', 'Marshall Islands'], dtype=object)"
      ]
     },
     "execution_count": 134,
     "metadata": {},
     "output_type": "execute_result"
    }
   ],
   "source": [
    "survey_df.Country.unique()"
   ]
  },
  {
   "cell_type": "code",
   "execution_count": 135,
   "id": "67eb15e9",
   "metadata": {},
   "outputs": [
    {
     "data": {
      "text/plain": [
       "183"
      ]
     },
     "execution_count": 135,
     "metadata": {},
     "output_type": "execute_result"
    }
   ],
   "source": [
    "#Counting the unique values\n",
    "survey_df.Country.nunique()"
   ]
  },
  {
   "cell_type": "code",
   "execution_count": 138,
   "id": "bdf8ad45",
   "metadata": {},
   "outputs": [
    {
     "data": {
      "text/plain": [
       "Country\n",
       "United States     12371\n",
       "India              8364\n",
       "United Kingdom     3881\n",
       "Germany            3864\n",
       "Canada             2175\n",
       "France             1884\n",
       "Brazil             1804\n",
       "Netherlands        1332\n",
       "Poland             1259\n",
       "Australia          1199\n",
       "Name: count, dtype: int64"
      ]
     },
     "execution_count": 138,
     "metadata": {},
     "output_type": "execute_result"
    }
   ],
   "source": [
    "#Checking the countriwise respose to survey (of 10 countries with highest responses)\n",
    "top_countries = survey_df.Country.value_counts().head(10)\n",
    "top_countries"
   ]
  },
  {
   "cell_type": "code",
   "execution_count": 153,
   "id": "fcca7ff5",
   "metadata": {},
   "outputs": [
    {
     "data": {
      "image/png": "[encoded data removed]",
      "text/plain": [
       "<Figure size 900x500 with 1 Axes>"
      ]
     },
     "metadata": {
      "needs_background": "light"
     },
     "output_type": "display_data"
    },
    {
     "data": {
      "text/plain": [
       "<Figure size 1200x600 with 0 Axes>"
      ]
     },
     "metadata": {},
     "output_type": "display_data"
    }
   ],
   "source": [
    "# Visualizing this information using bar chart\n",
    "plt.title(schema.Country);\n",
    "sns.barplot(x=top_countries.index, y=top_countries);\n",
    "plt.xticks(rotation = 90);\n",
    "plt.figure(figsize = (12, 6));"
   ]
  },
  {
   "cell_type": "markdown",
   "id": "93c83219",
   "metadata": {},
   "source": [
    "## Age"
   ]
  },
  {
   "cell_type": "markdown",
   "id": "04e0bc2c",
   "metadata": {},
   "source": [
    "We'll check the distribution of Age"
   ]
  },
  {
   "cell_type": "code",
   "execution_count": 176,
   "id": "4edd0a6e",
   "metadata": {},
   "outputs": [
    {
     "data": {
      "text/plain": [
       "'What is your age (in years)? If you prefer not to answer, you may leave this question blank.'"
      ]
     },
     "execution_count": 176,
     "metadata": {},
     "output_type": "execute_result"
    }
   ],
   "source": [
    "schema.Age"
   ]
  },
  {
   "cell_type": "code",
   "execution_count": 182,
   "id": "1cd2139d",
   "metadata": {},
   "outputs": [
    {
     "data": {
      "image/png": "[encoded data removed]",
      "text/plain": [
       "<Figure size 1200x600 with 1 Axes>"
      ]
     },
     "metadata": {
      "needs_background": "light"
     },
     "output_type": "display_data"
    }
   ],
   "source": [
    "plt.figure(figsize = (12, 6));\n",
    "plt.title(schema.Age)\n",
    "plt.hist(survey_df.Age, bins = np.arange(10, 100, 5), color = 'purple');\n",
    "plt.xlabel('Age (in years)');\n",
    "plt.ylabel('Number of Respondents');"
   ]
  },
  {
   "cell_type": "markdown",
   "id": "4b75972a",
   "metadata": {},
   "source": [
    "## Gender"
   ]
  },
  {
   "cell_type": "code",
   "execution_count": 183,
   "id": "a9bddc01",
   "metadata": {},
   "outputs": [
    {
     "data": {
      "text/plain": [
       "'Which of the following describe you, if any? Please check all that apply. If you prefer not to answer, you may leave this question blank.'"
      ]
     },
     "execution_count": 183,
     "metadata": {},
     "output_type": "execute_result"
    }
   ],
   "source": [
    "schema.Gender"
   ]
  },
  {
   "cell_type": "code",
   "execution_count": 196,
   "id": "07d98648",
   "metadata": {},
   "outputs": [
    {
     "data": {
      "text/plain": [
       "Gender\n",
       "Man                                                  45895\n",
       "NaN                                                  14191\n",
       "Woman                                                 3835\n",
       "Non-binary, genderqueer, or gender non-conforming      385\n",
       "Name: count, dtype: int64"
      ]
     },
     "execution_count": 196,
     "metadata": {},
     "output_type": "execute_result"
    }
   ],
   "source": [
    "gender_counts = survey_df.Gender.value_counts(dropna = False)\n",
    "gender_counts"
   ]
  },
  {
   "cell_type": "code",
   "execution_count": 198,
   "id": "3393ba77",
   "metadata": {},
   "outputs": [
    {
     "data": {
      "image/png": "[encoded data removed]",
      "text/plain": [
       "<Figure size 1200x600 with 1 Axes>"
      ]
     },
     "metadata": {},
     "output_type": "display_data"
    }
   ],
   "source": [
    "# Drawing Pie chart for this\n",
    "plt.figure(figsize = (12, 6));\n",
    "plt.title(schema.Gender);\n",
    "plt.pie(gender_counts, labels = gender_counts.index, autopct = '%1.1f%%', startangle = 180);"
   ]
  },
  {
   "cell_type": "markdown",
   "id": "0703742b",
   "metadata": {},
   "source": [
    "## Education Level"
   ]
  },
  {
   "cell_type": "code",
   "execution_count": 205,
   "id": "05e3d75e",
   "metadata": {},
   "outputs": [
    {
     "data": {
      "image/png": "[encoded data removed]",
      "text/plain": [
       "<Figure size 900x500 with 1 Axes>"
      ]
     },
     "metadata": {
      "needs_background": "light"
     },
     "output_type": "display_data"
    }
   ],
   "source": [
    "plt.title(schema.EdLevel);\n",
    "sns.countplot(y=survey_df.EdLevel);"
   ]
  },
  {
   "cell_type": "code",
   "execution_count": 206,
   "id": "7f1f04c7",
   "metadata": {},
   "outputs": [
    {
     "data": {
      "text/plain": [
       "'What was your primary field of study?'"
      ]
     },
     "execution_count": 206,
     "metadata": {},
     "output_type": "execute_result"
    }
   ],
   "source": [
    "schema.UndergradMajor"
   ]
  },
  {
   "cell_type": "code",
   "execution_count": 209,
   "id": "a79e2134",
   "metadata": {},
   "outputs": [
    {
     "data": {
      "text/plain": [
       "UndergradMajor\n",
       "Computer science, computer engineering, or software engineering                   31353\n",
       "Another engineering discipline (such as civil, electrical, mechanical, etc.)       4735\n",
       "Information systems, information technology, or system administration              4041\n",
       "A natural science (such as biology, chemistry, physics, etc.)                      2185\n",
       "Mathematics or statistics                                                          1836\n",
       "Web development or web design                                                      1773\n",
       "A business discipline (such as accounting, finance, marketing, etc.)               1367\n",
       "A humanities discipline (such as literature, history, philosophy, etc.)             997\n",
       "A social science (such as anthropology, psychology, political science, etc.)        922\n",
       "Fine arts or performing arts (such as graphic design, music, studio art, etc.)      715\n",
       "I never declared a major                                                            448\n",
       "A health science (such as nursing, pharmacy, radiology, etc.)                       247\n",
       "Name: count, dtype: int64"
      ]
     },
     "execution_count": 209,
     "metadata": {},
     "output_type": "execute_result"
    }
   ],
   "source": [
    "survey_df.UndergradMajor.value_counts()"
   ]
  },
  {
   "cell_type": "code",
   "execution_count": 210,
   "id": "baf20e08",
   "metadata": {},
   "outputs": [
    {
     "data": {
      "text/plain": [
       "50619"
      ]
     },
     "execution_count": 210,
     "metadata": {},
     "output_type": "execute_result"
    }
   ],
   "source": [
    "survey_df.UndergradMajor.count()"
   ]
  },
  {
   "cell_type": "code",
   "execution_count": 211,
   "id": "385e89d5",
   "metadata": {},
   "outputs": [
    {
     "data": {
      "text/plain": [
       "UndergradMajor\n",
       "Computer science, computer engineering, or software engineering                   61.939193\n",
       "Another engineering discipline (such as civil, electrical, mechanical, etc.)       9.354195\n",
       "Information systems, information technology, or system administration              7.983168\n",
       "A natural science (such as biology, chemistry, physics, etc.)                      4.316561\n",
       "Mathematics or statistics                                                          3.627097\n",
       "Web development or web design                                                      3.502637\n",
       "A business discipline (such as accounting, finance, marketing, etc.)               2.700567\n",
       "A humanities discipline (such as literature, history, philosophy, etc.)            1.969616\n",
       "A social science (such as anthropology, psychology, political science, etc.)       1.821450\n",
       "Fine arts or performing arts (such as graphic design, music, studio art, etc.)     1.412513\n",
       "I never declared a major                                                           0.885043\n",
       "A health science (such as nursing, pharmacy, radiology, etc.)                      0.487959\n",
       "Name: count, dtype: float64"
      ]
     },
     "execution_count": 211,
     "metadata": {},
     "output_type": "execute_result"
    }
   ],
   "source": [
    "undergrad_pct = survey_df.UndergradMajor.value_counts() * 100 / survey_df.UndergradMajor.count()\n",
    "undergrad_pct"
   ]
  },
  {
   "cell_type": "code",
   "execution_count": 217,
   "id": "0d6cdafc",
   "metadata": {},
   "outputs": [
    {
     "data": {
      "image/png": "[encoded data removed]",
      "text/plain": [
       "<Figure size 900x500 with 1 Axes>"
      ]
     },
     "metadata": {
      "needs_background": "light"
     },
     "output_type": "display_data"
    }
   ],
   "source": [
    "sns.barplot(x = undergrad_pct, y = undergrad_pct.index);\n",
    "plt.xlabel('Percentage');\n",
    "plt.title(schema.UndergradMajor);"
   ]
  },
  {
   "cell_type": "markdown",
   "id": "9ab1f270",
   "metadata": {},
   "source": [
    "## Employment"
   ]
  },
  {
   "cell_type": "code",
   "execution_count": 218,
   "id": "519931b0",
   "metadata": {},
   "outputs": [
    {
     "data": {
      "text/plain": [
       "'Which of the following best describes your current employment status?'"
      ]
     },
     "execution_count": 218,
     "metadata": {},
     "output_type": "execute_result"
    }
   ],
   "source": [
    "schema.Employment"
   ]
  },
  {
   "cell_type": "code",
   "execution_count": 222,
   "id": "17322e33",
   "metadata": {
    "scrolled": true
   },
   "outputs": [
    {
     "data": {
      "image/png": "[encoded data removed]",
      "text/plain": [
       "<Figure size 900x500 with 1 Axes>"
      ]
     },
     "metadata": {
      "needs_background": "light"
     },
     "output_type": "display_data"
    }
   ],
   "source": [
    "# normalize=True gives percentage\n",
    "(survey_df.Employment.value_counts(normalize=True, ascending=True) * 100).plot(kind='barh',color = 'g');\n",
    "plt.title(schema.Employment);\n",
    "plt.xlabel('Percentage');"
   ]
  },
  {
   "cell_type": "code",
   "execution_count": null,
   "id": "98c780aa",
   "metadata": {},
   "outputs": [],
   "source": []
  }
 ],
 "metadata": {
  "kernelspec": {
   "display_name": "Python 3 (ipykernel)",
   "language": "python",
   "name": "python3"
  },
  "language_info": {
   "codemirror_mode": {
    "name": "ipython",
    "version": 3
   },
   "file_extension": ".py",
   "mimetype": "text/x-python",
   "name": "python",
   "nbconvert_exporter": "python",
   "pygments_lexer": "ipython3",
   "version": "3.10.9"
  }
 },
 "nbformat": 4,
 "nbformat_minor": 5
}
